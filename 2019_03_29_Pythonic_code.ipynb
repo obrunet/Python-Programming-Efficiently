{
 "cells": [
  {
   "cell_type": "markdown",
   "metadata": {},
   "source": [
    "## Pythonic code"
   ]
  },
  {
   "cell_type": "markdown",
   "metadata": {
    "collapsed": true
   },
   "source": [
    "Python module/package imports"
   ]
  },
  {
   "cell_type": "code",
   "execution_count": 1,
   "metadata": {},
   "outputs": [],
   "source": [
    "import math, json, collections, itertools"
   ]
  },
  {
   "cell_type": "code",
   "execution_count": 2,
   "metadata": {},
   "outputs": [],
   "source": [
    "import numpy as np\n",
    "import matplotlib.pyplot as pp\n",
    "%matplotlib inline"
   ]
  },
  {
   "cell_type": "code",
   "execution_count": 3,
   "metadata": {},
   "outputs": [],
   "source": [
    "from mpl_toolkits.basemap import Basemap\n",
    "import geopy"
   ]
  },
  {
   "cell_type": "markdown",
   "metadata": {},
   "source": [
    "Code and data needed"
   ]
  },
  {
   "cell_type": "code",
   "execution_count": 4,
   "metadata": {},
   "outputs": [],
   "source": [
    "medal = collections.namedtuple('medal',['year','athlete','team','event'])\n",
    "medals = [medal(*line.strip().split('\\t')) for line in open('goldmedals.txt','r')]"
   ]
  },
  {
   "cell_type": "markdown",
   "metadata": {},
   "source": [
    "## Refactoring code to make it Pythonic"
   ]
  },
  {
   "cell_type": "code",
   "execution_count": 5,
   "metadata": {},
   "outputs": [
    {
     "name": "stdout",
     "output_type": "stream",
     "text": [
      "The Zen of Python, by Tim Peters\n",
      "\n",
      "Beautiful is better than ugly.\n",
      "Explicit is better than implicit.\n",
      "Simple is better than complex.\n",
      "Complex is better than complicated.\n",
      "Flat is better than nested.\n",
      "Sparse is better than dense.\n",
      "Readability counts.\n",
      "Special cases aren't special enough to break the rules.\n",
      "Although practicality beats purity.\n",
      "Errors should never pass silently.\n",
      "Unless explicitly silenced.\n",
      "In the face of ambiguity, refuse the temptation to guess.\n",
      "There should be one-- and preferably only one --obvious way to do it.\n",
      "Although that way may not be obvious at first unless you're Dutch.\n",
      "Now is better than never.\n",
      "Although never is often better than *right* now.\n",
      "If the implementation is hard to explain, it's a bad idea.\n",
      "If the implementation is easy to explain, it may be a good idea.\n",
      "Namespaces are one honking great idea -- let's do more of those!\n"
     ]
    }
   ],
   "source": [
    "import this"
   ]
  },
  {
   "cell_type": "code",
   "execution_count": 8,
   "metadata": {},
   "outputs": [
    {
     "data": {
      "text/plain": [
       "['Abdon Pamich',\n",
       " 'Abebe Bikila',\n",
       " 'Abel Kiviat',\n",
       " 'Adhemar Ferreira Da Silva',\n",
       " 'Adolfo Consolini',\n",
       " 'Aksana Miankova',\n",
       " 'Alain Mimoun',\n",
       " 'Alan Helffrich',\n",
       " 'Albert Hill',\n",
       " 'Albert Lovejoy Gutterson']"
      ]
     },
     "execution_count": 8,
     "metadata": {},
     "output_type": "execute_result"
    }
   ],
   "source": [
    "# non pythonic way\n",
    "athletes = []\n",
    "for medal in medals:\n",
    "    if medal.athlete not in athletes:\n",
    "        athletes.append(medal.athlete)\n",
    "\n",
    "athletes.sort()\n",
    "athletes[:10]"
   ]
  },
  {
   "cell_type": "code",
   "execution_count": 10,
   "metadata": {},
   "outputs": [
    {
     "data": {
      "text/plain": [
       "['Abdon Pamich',\n",
       " 'Abebe Bikila',\n",
       " 'Abebe Bikila',\n",
       " 'Abel Kiviat',\n",
       " 'Adhemar Ferreira Da Silva',\n",
       " 'Adhemar Ferreira Da Silva',\n",
       " 'Adolfo Consolini',\n",
       " 'Aksana Miankova',\n",
       " 'Alain Mimoun',\n",
       " 'Alan Helffrich']"
      ]
     },
     "execution_count": 10,
     "metadata": {},
     "output_type": "execute_result"
    }
   ],
   "source": [
    "# in a more idiomatic python way\n",
    "athletes = sorted((medal.athlete for medal in medals))\n",
    "athletes[:10]"
   ]
  },
  {
   "cell_type": "code",
   "execution_count": 14,
   "metadata": {},
   "outputs": [
    {
     "data": {
      "text/plain": [
       "{'Aleen Bailey',\n",
       " 'Aleksandr Aksinin',\n",
       " 'Aleksandra Fedoriva',\n",
       " 'Alice Regina Brown',\n",
       " 'Allan Wells',\n",
       " 'Allyson Felix',\n",
       " 'Andrei Prokofiev',\n",
       " 'Andrew William Stanfield',\n",
       " 'Annegret Richter-Irrgang',\n",
       " 'Annelie Ehrhardt',\n",
       " 'Annette Joan Rogers',\n",
       " 'Archie Hahn',\n",
       " 'Ariana Washington',\n",
       " 'Armin Hary',\n",
       " 'Asafa Powell',\n",
       " 'Barbara Ann Ferrell',\n",
       " 'Barbara Pearl Jones',\n",
       " 'Benita Fitzgerald-Brown',\n",
       " 'Bernard Williams iii',\n",
       " 'Bernd Cullmann',\n",
       " 'Betty Cuthbert',\n",
       " 'Beverly Mcdonald',\n",
       " 'Bianca Knight',\n",
       " 'Brian Lewis',\n",
       " 'Brianna Rollins',\n",
       " 'Bruny Surin',\n",
       " 'Bärbel Eckert-Wöckel',\n",
       " 'Calvin Smith',\n",
       " 'Carl Lewis',\n",
       " 'Carla Bodendorf',\n",
       " 'Carlette D. Guidry-White',\n",
       " 'Carlton Chambers',\n",
       " 'Carmelita Jeter',\n",
       " 'Catherine Hardy',\n",
       " 'Chandra Danette Cheeseborough',\n",
       " 'Chandra Sturrup',\n",
       " 'Charles Edward Borah',\n",
       " 'Charles Edward Greene',\n",
       " 'Charles Paddock',\n",
       " 'Christiane Krause',\n",
       " 'Chryste Gaines',\n",
       " 'Darren Campbell',\n",
       " 'David Henry Jacobs',\n",
       " 'Dawn Harper',\n",
       " 'Debbie Ferguson-Mckenzie',\n",
       " 'Dennis Mitchell',\n",
       " 'Donovan Bailey',\n",
       " 'Eddie Tolan',\n",
       " 'Edward James Hart',\n",
       " 'Elaine Thompson',\n",
       " 'Eldice Lewis',\n",
       " 'Elizabeth Robinson',\n",
       " 'English Gardner',\n",
       " 'Esther Jones',\n",
       " 'Ethel M. Smith',\n",
       " 'Evelyn Ashford',\n",
       " 'Evelyn Furtsch',\n",
       " 'Evgeniya Polyakova',\n",
       " 'Ewa Klobukowska',\n",
       " 'Fanny Blankers-Koen',\n",
       " 'Fanny Rosenfeld',\n",
       " 'Finis Dean Smith',\n",
       " 'Florence Griffith-Joyner',\n",
       " 'Fluer Northey Mellor-Wenham',\n",
       " 'Foy Draper',\n",
       " 'Francis Hussey',\n",
       " 'Francis Jarvis',\n",
       " 'Frank Clifford Wykoff',\n",
       " 'Gail Devers',\n",
       " 'Gerald A. Tinker',\n",
       " 'Gerald Howard Ashworth',\n",
       " 'Gerda Johanna Marie Van der kade-Koudijs',\n",
       " 'Glenroy Gilbert',\n",
       " 'Gwen Torrence',\n",
       " 'Halina Herrmann-Gorecka-Richter',\n",
       " 'Harold Abrahams',\n",
       " 'Harold Norwood Ewell',\n",
       " 'Harriett Claiborne Bland',\n",
       " 'Harrison Dillard',\n",
       " 'Harvey Edward Glance',\n",
       " 'Hasely Crawford',\n",
       " 'Hector Monroe Dyer',\n",
       " 'Heidemarie Rosendahl',\n",
       " 'Helen Herring Stephens',\n",
       " 'Henry Argue Russell',\n",
       " 'Henry Maitland Mackintosh',\n",
       " 'Inger Miller',\n",
       " 'Ingrid Auerswald-Lange',\n",
       " 'Ingrid Becker-Mickler',\n",
       " 'Ira James Murchison',\n",
       " 'Irena Szewinska',\n",
       " 'Jackson Scholz',\n",
       " 'James F. Quinn',\n",
       " 'James Jett',\n",
       " 'James Ray Hines',\n",
       " 'Janet Theresa Moreau',\n",
       " 'Jason Gardener',\n",
       " 'Jean Thompson',\n",
       " 'Jeanette Bolden',\n",
       " 'Jeannette Josephina Maria Witziers-Timmer',\n",
       " 'Jeneba Tarmoh',\n",
       " 'Jenna Prandini',\n",
       " 'Jeremiah Alfred Leconey',\n",
       " 'Jesse Owens',\n",
       " 'Jevaughn Minzie',\n",
       " 'Joanna Hayes',\n",
       " 'Johanna Schaller-Klier',\n",
       " 'John Wesley Jones',\n",
       " 'Jon Drummond',\n",
       " 'Justin Gatlin',\n",
       " 'Kemar Bailey-Cole',\n",
       " 'Kenneth Brokenburr',\n",
       " 'Lauryn Williams',\n",
       " 'Lawrence J. Black',\n",
       " 'Leamon King',\n",
       " 'Leroy Burrell',\n",
       " 'Lindy Remigino',\n",
       " 'Linford Christie',\n",
       " 'Liudmila Kondratieva',\n",
       " 'Loren Murchison',\n",
       " 'Lorenzo Christopher Wright',\n",
       " 'Louis Alfred Clarke',\n",
       " 'Lucinda Williams',\n",
       " 'Ludmila Engquist',\n",
       " 'Mae Heriwentha Faggs',\n",
       " 'Margaret Johnson Bailes',\n",
       " 'Marjorie Jackson',\n",
       " 'Mark Lewis-Francis',\n",
       " 'Marlies Oelsner-Göhr',\n",
       " 'Marlon Devonish',\n",
       " 'Martha B. Hudson',\n",
       " 'Martin Emmett Toppino',\n",
       " 'Martin Lauer',\n",
       " 'Mary Louise Carew',\n",
       " 'Maurice Greene',\n",
       " 'Melvin Emery Patton',\n",
       " 'Melvin Jr. Pender',\n",
       " 'Michael Frater',\n",
       " 'Michael Marsh',\n",
       " 'Michelle Finn',\n",
       " 'Mildrette Netter',\n",
       " 'Millard Frank Jr. Hampton',\n",
       " 'Morolake Akinosun',\n",
       " 'Morris Kirksey',\n",
       " 'Myrtle Alice Cook',\n",
       " 'Nesta Carter',\n",
       " 'Nickel Ashmeade',\n",
       " 'Nikolai Sidorov',\n",
       " 'Norma Wilson Crooker-Fleming',\n",
       " 'Olga Shishigina',\n",
       " 'Otis Paul Drayton',\n",
       " 'Paraskevi Voula Patoulidou',\n",
       " 'Pauline Elaine Davis',\n",
       " 'Percy Williams',\n",
       " 'Ralph Craig',\n",
       " 'Ralph Metcalfe',\n",
       " 'Reginald Walker',\n",
       " 'Renate Stecher',\n",
       " 'Richard Vaughn Stebbins',\n",
       " 'Robert Allan Kiesel',\n",
       " 'Robert Esmie',\n",
       " 'Robert Hayes',\n",
       " 'Robert Joseph Morrow',\n",
       " 'Robert Taylor',\n",
       " 'Romy Müller',\n",
       " 'Ronald James Brown',\n",
       " 'Ronald Ray Smith',\n",
       " 'Sally Pearson',\n",
       " 'Samuel Louis Graddy',\n",
       " 'Sevatheda Fynes',\n",
       " 'Sheila Echols',\n",
       " 'Shelly-Ann Fraser',\n",
       " 'Shelly-Ann Fraser-Pryce',\n",
       " 'Sherone Simpson',\n",
       " 'Shirley Strickland-De La Hunty',\n",
       " 'Stanislawa Walasiewicz',\n",
       " 'Steven Earl Riddick',\n",
       " 'Tanya Lawrence',\n",
       " 'Teresa Barbara Wieczorek-Cieply',\n",
       " 'Thomas Burke',\n",
       " 'Tianna Bartoletta',\n",
       " 'Tianna Madison',\n",
       " 'Tim Montgomery',\n",
       " 'Tori Bowie',\n",
       " 'Usain Bolt',\n",
       " 'Valery Borzov',\n",
       " 'Vera Komisova',\n",
       " 'Veronica Campbell-Brown',\n",
       " \"Victor Henry Augustus D'arcy\",\n",
       " 'Viktor Bryzgin',\n",
       " 'Vitaly Savin',\n",
       " 'Vladimir Krylov',\n",
       " 'Vladimir Muravyov',\n",
       " 'Walter Mahlendorf',\n",
       " 'Walter Thane Baker',\n",
       " 'Wilhelmina Von bremen',\n",
       " 'William Applegarth',\n",
       " 'Wilma Rudolph',\n",
       " 'Wyomia Tyus',\n",
       " 'Xenia Stad-De jong',\n",
       " 'Yohan Blake',\n",
       " 'Yordanka Donkova',\n",
       " 'Yulia Gushchina',\n",
       " 'Yuliya Chermoshanskaya',\n",
       " 'Yuliya Nesterenko'}"
      ]
     },
     "execution_count": 14,
     "metadata": {},
     "output_type": "execute_result"
    }
   ],
   "source": [
    "winners_100m = {medal.athlete for medal in medals if '100m' in medal.event}\n",
    "winners_200m = {medal.athlete for medal in medals if '200m' in medal.event}\n",
    "\n",
    "winners_100m"
   ]
  },
  {
   "cell_type": "code",
   "execution_count": 15,
   "metadata": {},
   "outputs": [
    {
     "data": {
      "text/plain": [
       "{'Allyson Felix',\n",
       " 'Andrew William Stanfield',\n",
       " 'Archie Hahn',\n",
       " 'Betty Cuthbert',\n",
       " 'Bärbel Eckert-Wöckel',\n",
       " 'Carl Lewis',\n",
       " 'Eddie Tolan',\n",
       " 'Elaine Thompson',\n",
       " 'Fanny Blankers-Koen',\n",
       " 'Florence Griffith-Joyner',\n",
       " 'Gwen Torrence',\n",
       " 'Irena Szewinska',\n",
       " 'Jackson Scholz',\n",
       " 'Jesse Owens',\n",
       " 'Marjorie Jackson',\n",
       " 'Melvin Emery Patton',\n",
       " 'Michael Marsh',\n",
       " 'Pauline Elaine Davis',\n",
       " 'Percy Williams',\n",
       " 'Ralph Craig',\n",
       " 'Renate Stecher',\n",
       " 'Robert Joseph Morrow',\n",
       " 'Usain Bolt',\n",
       " 'Valery Borzov',\n",
       " 'Veronica Campbell-Brown',\n",
       " 'Wilma Rudolph'}"
      ]
     },
     "execution_count": 15,
     "metadata": {},
     "output_type": "execute_result"
    }
   ],
   "source": [
    "winners_both = {athlete for athlete in winners_100m if athlete in winners_200m}\n",
    "\n",
    "winners_both"
   ]
  },
  {
   "cell_type": "code",
   "execution_count": 16,
   "metadata": {},
   "outputs": [
    {
     "data": {
      "text/plain": [
       "{'Allyson Felix',\n",
       " 'Andrew William Stanfield',\n",
       " 'Archie Hahn',\n",
       " 'Betty Cuthbert',\n",
       " 'Bärbel Eckert-Wöckel',\n",
       " 'Carl Lewis',\n",
       " 'Eddie Tolan',\n",
       " 'Elaine Thompson',\n",
       " 'Fanny Blankers-Koen',\n",
       " 'Florence Griffith-Joyner',\n",
       " 'Gwen Torrence',\n",
       " 'Irena Szewinska',\n",
       " 'Jackson Scholz',\n",
       " 'Jesse Owens',\n",
       " 'Marjorie Jackson',\n",
       " 'Melvin Emery Patton',\n",
       " 'Michael Marsh',\n",
       " 'Pauline Elaine Davis',\n",
       " 'Percy Williams',\n",
       " 'Ralph Craig',\n",
       " 'Renate Stecher',\n",
       " 'Robert Joseph Morrow',\n",
       " 'Usain Bolt',\n",
       " 'Valery Borzov',\n",
       " 'Veronica Campbell-Brown',\n",
       " 'Wilma Rudolph'}"
      ]
     },
     "execution_count": 16,
     "metadata": {},
     "output_type": "execute_result"
    }
   ],
   "source": [
    "# an easier way consists in using intersection of sets\n",
    "winners_100m & winners_200m"
   ]
  },
  {
   "cell_type": "markdown",
   "metadata": {},
   "source": [
    "## Exploiting set comprehensions and set operations"
   ]
  },
  {
   "cell_type": "markdown",
   "metadata": {},
   "source": [
    "## Formatting strings with format"
   ]
  },
  {
   "cell_type": "markdown",
   "metadata": {},
   "source": [
    "## Using generic function arguments"
   ]
  },
  {
   "cell_type": "markdown",
   "metadata": {},
   "source": [
    "## Using all() and any()"
   ]
  },
  {
   "cell_type": "code",
   "execution_count": null,
   "metadata": {
    "collapsed": true
   },
   "outputs": [],
   "source": []
  }
 ],
 "metadata": {
  "anaconda-cloud": {},
  "kernelspec": {
   "display_name": "Python 3",
   "language": "python",
   "name": "python3"
  },
  "language_info": {
   "codemirror_mode": {
    "name": "ipython",
    "version": 3
   },
   "file_extension": ".py",
   "mimetype": "text/x-python",
   "name": "python",
   "nbconvert_exporter": "python",
   "pygments_lexer": "ipython3",
   "version": "3.7.1"
  }
 },
 "nbformat": 4,
 "nbformat_minor": 1
}
